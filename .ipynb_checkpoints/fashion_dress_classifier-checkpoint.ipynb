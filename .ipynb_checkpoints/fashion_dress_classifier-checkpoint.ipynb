{
 "cells": [
  {
   "cell_type": "code",
   "execution_count": 29,
   "metadata": {},
   "outputs": [],
   "source": [
    "import tensorflow as tf\n",
    "import tensorflow_datasets as tfds\n",
    "import cv2\n",
    "import numpy as np\n",
    "import matplotlib.pyplot as plt\n",
    "from tensorflow import keras"
   ]
  },
  {
   "cell_type": "code",
   "execution_count": 64,
   "metadata": {},
   "outputs": [],
   "source": [
    "dataset = tfds.load('fashion_mnist', batch_size = 32, as_supervised=True)"
   ]
  },
  {
   "cell_type": "code",
   "execution_count": 83,
   "metadata": {},
   "outputs": [],
   "source": [
    "train = dataset['train'].repeat().prefetch(1)\n",
    "test = dataset['test'].prefetch(1)"
   ]
  },
  {
   "cell_type": "code",
   "execution_count": 95,
   "metadata": {},
   "outputs": [
    {
     "name": "stdout",
     "output_type": "stream",
     "text": [
      "tf.Tensor(2, shape=(), dtype=int64)\n"
     ]
    },
    {
     "data": {
      "image/png": "[encoded data removed]",
      "text/plain": [
       "<Figure size 432x288 with 1 Axes>"
      ]
     },
     "metadata": {
      "needs_background": "light"
     },
     "output_type": "display_data"
    }
   ],
   "source": [
    "for item in train:\n",
    "    image = item[0]\n",
    "    label = item[1]\n",
    "    plt.imshow(image[0])\n",
    "    print(label[0])\n",
    "    break"
   ]
  },
  {
   "cell_type": "code",
   "execution_count": 70,
   "metadata": {},
   "outputs": [
    {
     "name": "stdout",
     "output_type": "stream",
     "text": [
      "Model: \"sequential_21\"\n",
      "_________________________________________________________________\n",
      "Layer (type)                 Output Shape              Param #   \n",
      "=================================================================\n",
      "conv2d_79 (Conv2D)           (None, 28, 28, 32)        160       \n",
      "_________________________________________________________________\n",
      "max_pooling2d_75 (MaxPooling (None, 14, 14, 32)        0         \n",
      "_________________________________________________________________\n",
      "conv2d_80 (Conv2D)           (None, 14, 14, 64)        8256      \n",
      "_________________________________________________________________\n",
      "max_pooling2d_76 (MaxPooling (None, 7, 7, 64)          0         \n",
      "_________________________________________________________________\n",
      "conv2d_81 (Conv2D)           (None, 7, 7, 128)         32896     \n",
      "_________________________________________________________________\n",
      "max_pooling2d_77 (MaxPooling (None, 3, 3, 128)         0         \n",
      "_________________________________________________________________\n",
      "conv2d_82 (Conv2D)           (None, 3, 3, 512)         262656    \n",
      "_________________________________________________________________\n",
      "max_pooling2d_78 (MaxPooling (None, 1, 1, 512)         0         \n",
      "_________________________________________________________________\n",
      "flatten_21 (Flatten)         (None, 512)               0         \n",
      "_________________________________________________________________\n",
      "dense_79 (Dense)             (None, 512)               262656    \n",
      "_________________________________________________________________\n",
      "dropout_70 (Dropout)         (None, 512)               0         \n",
      "_________________________________________________________________\n",
      "dense_80 (Dense)             (None, 256)               131328    \n",
      "_________________________________________________________________\n",
      "dropout_71 (Dropout)         (None, 256)               0         \n",
      "_________________________________________________________________\n",
      "dense_81 (Dense)             (None, 128)               32896     \n",
      "_________________________________________________________________\n",
      "dropout_72 (Dropout)         (None, 128)               0         \n",
      "_________________________________________________________________\n",
      "dense_82 (Dense)             (None, 64)                8256      \n",
      "_________________________________________________________________\n",
      "dropout_73 (Dropout)         (None, 64)                0         \n",
      "_________________________________________________________________\n",
      "dense_83 (Dense)             (None, 10)                650       \n",
      "=================================================================\n",
      "Total params: 739,754\n",
      "Trainable params: 739,754\n",
      "Non-trainable params: 0\n",
      "_________________________________________________________________\n"
     ]
    }
   ],
   "source": [
    "model = keras.models.Sequential([\n",
    "    tf.keras.layers.Conv2D(32, (2,2), 1, activation = 'relu', input_shape = [28, 28, 1], padding = 'same'),\n",
    "    keras.layers.MaxPooling2D(2),\n",
    "    tf.keras.layers.Conv2D(64, (2,2), 1, activation = 'relu', padding = 'same'),\n",
    "    keras.layers.MaxPooling2D(2),\n",
    "    tf.keras.layers.Conv2D(128, (2,2), 1, activation = 'relu', padding = 'same'),\n",
    "    keras.layers.MaxPooling2D(2),\n",
    "    tf.keras.layers.Conv2D(512, (2,2), 1, activation = 'relu', padding = 'same'),\n",
    "    keras.layers.MaxPooling2D(2),\n",
    "    \n",
    "    keras.layers.Flatten(),\n",
    "    keras.layers.Dense(units=512, activation='relu'),\n",
    "    keras.layers.Dropout(0.5),\n",
    "    keras.layers.Dense(units=256, activation='relu'),\n",
    "    keras.layers.Dropout(0.3),\n",
    "    keras.layers.Dense(units=128, activation='relu'),\n",
    "    keras.layers.Dropout(0.3),\n",
    "    keras.layers.Dense(units=64, activation='relu'),\n",
    "    keras.layers.Dropout(0.2),\n",
    "    keras.layers.Dense(units=10, activation='softmax'),\n",
    "])\n",
    "\n",
    "model.summary()"
   ]
  },
  {
   "cell_type": "code",
   "execution_count": 71,
   "metadata": {},
   "outputs": [],
   "source": [
    "model.compile(loss = 'sparse_categorical_crossentropy', optimizer = 'sgd', metrics = ['accuracy'])"
   ]
  },
  {
   "cell_type": "code",
   "execution_count": 72,
   "metadata": {},
   "outputs": [
    {
     "name": "stdout",
     "output_type": "stream",
     "text": [
      "Epoch 1/100\n",
      "500/500 [==============================] - 10s 20ms/step - loss: 1.6198 - accuracy: 0.3964\n",
      "Epoch 2/100\n",
      "500/500 [==============================] - 10s 20ms/step - loss: 0.8715 - accuracy: 0.6774\n",
      "Epoch 3/100\n",
      "500/500 [==============================] - 10s 20ms/step - loss: 0.7137 - accuracy: 0.7368\n",
      "Epoch 4/100\n",
      "500/500 [==============================] - 10s 20ms/step - loss: 0.6315 - accuracy: 0.7678\n",
      "Epoch 5/100\n",
      "500/500 [==============================] - 10s 20ms/step - loss: 0.5919 - accuracy: 0.7894\n",
      "Epoch 6/100\n",
      "500/500 [==============================] - 10s 21ms/step - loss: 0.5493 - accuracy: 0.8099\n",
      "Epoch 7/100\n",
      "500/500 [==============================] - 10s 20ms/step - loss: 0.5164 - accuracy: 0.8227\n",
      "Epoch 8/100\n",
      "500/500 [==============================] - 10s 21ms/step - loss: 0.4802 - accuracy: 0.8351\n",
      "Epoch 9/100\n",
      "500/500 [==============================] - 10s 20ms/step - loss: 0.4753 - accuracy: 0.8361\n",
      "Epoch 10/100\n",
      "500/500 [==============================] - 10s 21ms/step - loss: 0.4597 - accuracy: 0.8398\n",
      "Epoch 11/100\n",
      "500/500 [==============================] - 10s 21ms/step - loss: 0.4350 - accuracy: 0.8502\n",
      "Epoch 12/100\n",
      "500/500 [==============================] - 11s 22ms/step - loss: 0.4194 - accuracy: 0.8543\n",
      "Epoch 13/100\n",
      "500/500 [==============================] - 10s 21ms/step - loss: 0.4086 - accuracy: 0.8594\n",
      "Epoch 14/100\n",
      "500/500 [==============================] - 10s 20ms/step - loss: 0.4030 - accuracy: 0.8636\n",
      "Epoch 15/100\n",
      "500/500 [==============================] - 10s 20ms/step - loss: 0.3659 - accuracy: 0.8730\n",
      "Epoch 16/100\n",
      "500/500 [==============================] - 10s 21ms/step - loss: 0.3819 - accuracy: 0.8709\n",
      "Epoch 17/100\n",
      "500/500 [==============================] - 10s 20ms/step - loss: 0.3818 - accuracy: 0.8706\n",
      "Epoch 18/100\n",
      "500/500 [==============================] - 10s 21ms/step - loss: 0.3645 - accuracy: 0.8758\n",
      "Epoch 19/100\n",
      "500/500 [==============================] - 10s 21ms/step - loss: 0.3435 - accuracy: 0.8815\n",
      "Epoch 20/100\n",
      "500/500 [==============================] - 10s 21ms/step - loss: 0.3501 - accuracy: 0.8789\n",
      "Epoch 21/100\n",
      "500/500 [==============================] - 10s 21ms/step - loss: 0.3465 - accuracy: 0.8800\n",
      "Epoch 22/100\n",
      "500/500 [==============================] - 10s 20ms/step - loss: 0.3277 - accuracy: 0.8891\n",
      "Epoch 23/100\n",
      "500/500 [==============================] - 10s 21ms/step - loss: 0.3228 - accuracy: 0.8888\n",
      "Epoch 24/100\n",
      "500/500 [==============================] - 10s 21ms/step - loss: 0.3300 - accuracy: 0.8883\n",
      "Epoch 25/100\n",
      "500/500 [==============================] - 10s 21ms/step - loss: 0.3234 - accuracy: 0.8894\n",
      "Epoch 26/100\n",
      "500/500 [==============================] - 10s 20ms/step - loss: 0.2950 - accuracy: 0.8988\n",
      "Epoch 27/100\n",
      "500/500 [==============================] - 10s 21ms/step - loss: 0.3078 - accuracy: 0.8940\n",
      "Epoch 28/100\n",
      "500/500 [==============================] - 10s 20ms/step - loss: 0.3108 - accuracy: 0.8938\n",
      "Epoch 29/100\n",
      "500/500 [==============================] - 10s 20ms/step - loss: 0.3032 - accuracy: 0.8964\n",
      "Epoch 30/100\n",
      "500/500 [==============================] - 10s 20ms/step - loss: 0.2804 - accuracy: 0.9013\n",
      "Epoch 31/100\n",
      "500/500 [==============================] - 10s 21ms/step - loss: 0.2896 - accuracy: 0.9011\n",
      "Epoch 32/100\n",
      "500/500 [==============================] - 10s 20ms/step - loss: 0.2939 - accuracy: 0.9018\n",
      "Epoch 33/100\n",
      "500/500 [==============================] - 10s 20ms/step - loss: 0.2808 - accuracy: 0.9012\n",
      "Epoch 34/100\n",
      "500/500 [==============================] - 10s 20ms/step - loss: 0.2706 - accuracy: 0.9078\n",
      "Epoch 35/100\n",
      "500/500 [==============================] - 10s 20ms/step - loss: 0.2846 - accuracy: 0.9020\n",
      "Epoch 36/100\n",
      "500/500 [==============================] - 10s 20ms/step - loss: 0.2734 - accuracy: 0.9045\n",
      "Epoch 37/100\n",
      "500/500 [==============================] - 10s 20ms/step - loss: 0.2614 - accuracy: 0.9083\n",
      "Epoch 38/100\n",
      "500/500 [==============================] - 10s 20ms/step - loss: 0.2598 - accuracy: 0.9107\n",
      "Epoch 39/100\n",
      "500/500 [==============================] - 10s 21ms/step - loss: 0.2687 - accuracy: 0.9094\n",
      "Epoch 40/100\n",
      "500/500 [==============================] - 10s 20ms/step - loss: 0.2603 - accuracy: 0.9081\n",
      "Epoch 41/100\n",
      "500/500 [==============================] - 10s 20ms/step - loss: 0.2499 - accuracy: 0.9136\n",
      "Epoch 42/100\n",
      "500/500 [==============================] - 11s 22ms/step - loss: 0.2504 - accuracy: 0.9103\n",
      "Epoch 43/100\n",
      "500/500 [==============================] - 10s 21ms/step - loss: 0.2582 - accuracy: 0.9095\n",
      "Epoch 44/100\n",
      "500/500 [==============================] - 10s 21ms/step - loss: 0.2488 - accuracy: 0.9128\n",
      "Epoch 45/100\n",
      "500/500 [==============================] - 10s 20ms/step - loss: 0.2315 - accuracy: 0.9178\n",
      "Epoch 46/100\n",
      "500/500 [==============================] - 10s 20ms/step - loss: 0.2470 - accuracy: 0.9144\n",
      "Epoch 47/100\n",
      "500/500 [==============================] - 10s 20ms/step - loss: 0.2469 - accuracy: 0.9158\n",
      "Epoch 48/100\n",
      "500/500 [==============================] - 10s 20ms/step - loss: 0.2207 - accuracy: 0.9214\n",
      "Epoch 49/100\n",
      "500/500 [==============================] - 10s 20ms/step - loss: 0.2235 - accuracy: 0.9243\n",
      "Epoch 50/100\n",
      "500/500 [==============================] - 10s 20ms/step - loss: 0.2335 - accuracy: 0.9181\n",
      "Epoch 51/100\n",
      "500/500 [==============================] - 10s 21ms/step - loss: 0.2374 - accuracy: 0.9183\n",
      "Epoch 52/100\n",
      "500/500 [==============================] - 10s 21ms/step - loss: 0.2148 - accuracy: 0.9244\n",
      "Epoch 53/100\n",
      "500/500 [==============================] - 10s 21ms/step - loss: 0.2219 - accuracy: 0.9231\n",
      "Epoch 54/100\n",
      "500/500 [==============================] - 10s 21ms/step - loss: 0.2238 - accuracy: 0.9219\n",
      "Epoch 55/100\n",
      "500/500 [==============================] - 10s 21ms/step - loss: 0.2129 - accuracy: 0.9254\n",
      "Epoch 56/100\n",
      "500/500 [==============================] - 11s 21ms/step - loss: 0.2067 - accuracy: 0.9251\n",
      "Epoch 57/100\n",
      "500/500 [==============================] - 11s 21ms/step - loss: 0.2174 - accuracy: 0.9271\n",
      "Epoch 58/100\n",
      "500/500 [==============================] - 10s 21ms/step - loss: 0.2213 - accuracy: 0.9222\n",
      "Epoch 59/100\n",
      "500/500 [==============================] - 10s 20ms/step - loss: 0.2089 - accuracy: 0.9269\n",
      "Epoch 60/100\n",
      "500/500 [==============================] - 10s 20ms/step - loss: 0.2016 - accuracy: 0.9264\n",
      "Epoch 61/100\n",
      "500/500 [==============================] - 10s 20ms/step - loss: 0.2057 - accuracy: 0.9266\n",
      "Epoch 62/100\n",
      "500/500 [==============================] - 10s 21ms/step - loss: 0.2108 - accuracy: 0.9263\n",
      "Epoch 63/100\n",
      "500/500 [==============================] - 10s 21ms/step - loss: 0.1870 - accuracy: 0.9327\n",
      "Epoch 64/100\n",
      "500/500 [==============================] - 10s 20ms/step - loss: 0.1922 - accuracy: 0.9346\n",
      "Epoch 65/100\n",
      "500/500 [==============================] - 10s 20ms/step - loss: 0.2013 - accuracy: 0.9276\n",
      "Epoch 66/100\n",
      "500/500 [==============================] - 10s 20ms/step - loss: 0.1957 - accuracy: 0.9315\n",
      "Epoch 67/100\n",
      "500/500 [==============================] - 10s 20ms/step - loss: 0.1820 - accuracy: 0.9336\n",
      "Epoch 68/100\n",
      "500/500 [==============================] - 10s 20ms/step - loss: 0.1957 - accuracy: 0.9307\n",
      "Epoch 69/100\n",
      "500/500 [==============================] - 10s 21ms/step - loss: 0.1978 - accuracy: 0.9292\n",
      "Epoch 70/100\n",
      "500/500 [==============================] - 10s 21ms/step - loss: 0.1845 - accuracy: 0.9342\n",
      "Epoch 71/100\n",
      "500/500 [==============================] - 10s 20ms/step - loss: 0.1786 - accuracy: 0.9354\n",
      "Epoch 72/100\n",
      "500/500 [==============================] - 10s 20ms/step - loss: 0.1824 - accuracy: 0.9356\n",
      "Epoch 73/100\n",
      "500/500 [==============================] - 10s 20ms/step - loss: 0.1910 - accuracy: 0.9309\n",
      "Epoch 74/100\n",
      "500/500 [==============================] - 11s 21ms/step - loss: 0.1694 - accuracy: 0.9374\n",
      "Epoch 75/100\n",
      "500/500 [==============================] - 11s 21ms/step - loss: 0.1684 - accuracy: 0.9374\n",
      "Epoch 76/100\n",
      "500/500 [==============================] - 10s 21ms/step - loss: 0.1778 - accuracy: 0.9363\n",
      "Epoch 77/100\n",
      "500/500 [==============================] - 10s 21ms/step - loss: 0.1756 - accuracy: 0.9379\n",
      "Epoch 78/100\n",
      "500/500 [==============================] - 10s 20ms/step - loss: 0.1652 - accuracy: 0.9395\n",
      "Epoch 79/100\n"
     ]
    },
    {
     "name": "stdout",
     "output_type": "stream",
     "text": [
      "500/500 [==============================] - 11s 21ms/step - loss: 0.1699 - accuracy: 0.9384\n",
      "Epoch 80/100\n",
      "500/500 [==============================] - 10s 21ms/step - loss: 0.1761 - accuracy: 0.9351\n",
      "Epoch 81/100\n",
      "500/500 [==============================] - 10s 20ms/step - loss: 0.1657 - accuracy: 0.9404\n",
      "Epoch 82/100\n",
      "500/500 [==============================] - 10s 20ms/step - loss: 0.1580 - accuracy: 0.9424\n",
      "Epoch 83/100\n",
      "500/500 [==============================] - 10s 20ms/step - loss: 0.1707 - accuracy: 0.9399\n",
      "Epoch 84/100\n",
      "500/500 [==============================] - 10s 20ms/step - loss: 0.1726 - accuracy: 0.9384\n",
      "Epoch 85/100\n",
      "500/500 [==============================] - 10s 20ms/step - loss: 0.1624 - accuracy: 0.9412\n",
      "Epoch 86/100\n",
      "500/500 [==============================] - 10s 20ms/step - loss: 0.1604 - accuracy: 0.9451\n",
      "Epoch 87/100\n",
      "500/500 [==============================] - 10s 20ms/step - loss: 0.1523 - accuracy: 0.9448\n",
      "Epoch 88/100\n",
      "500/500 [==============================] - 10s 20ms/step - loss: 0.1695 - accuracy: 0.9413\n",
      "Epoch 89/100\n",
      "500/500 [==============================] - 10s 20ms/step - loss: 0.1536 - accuracy: 0.9440\n",
      "Epoch 90/100\n",
      "500/500 [==============================] - 10s 21ms/step - loss: 0.1409 - accuracy: 0.9496\n",
      "Epoch 91/100\n",
      "500/500 [==============================] - 10s 20ms/step - loss: 0.1444 - accuracy: 0.9454\n",
      "Epoch 92/100\n",
      "500/500 [==============================] - 10s 20ms/step - loss: 0.1646 - accuracy: 0.9448\n",
      "Epoch 93/100\n",
      "500/500 [==============================] - 10s 20ms/step - loss: 0.1431 - accuracy: 0.9489\n",
      "Epoch 94/100\n",
      "500/500 [==============================] - 10s 20ms/step - loss: 0.1438 - accuracy: 0.9475\n",
      "Epoch 95/100\n",
      "500/500 [==============================] - 10s 21ms/step - loss: 0.1536 - accuracy: 0.9457\n",
      "Epoch 96/100\n",
      "500/500 [==============================] - 10s 20ms/step - loss: 0.1409 - accuracy: 0.9495\n",
      "Epoch 97/100\n",
      "500/500 [==============================] - 10s 20ms/step - loss: 0.1435 - accuracy: 0.9479\n",
      "Epoch 98/100\n",
      "500/500 [==============================] - 11s 21ms/step - loss: 0.1409 - accuracy: 0.9494\n",
      "Epoch 99/100\n",
      "500/500 [==============================] - 11s 21ms/step - loss: 0.1504 - accuracy: 0.9460\n",
      "Epoch 100/100\n",
      "500/500 [==============================] - 10s 21ms/step - loss: 0.1348 - accuracy: 0.9501\n"
     ]
    },
    {
     "data": {
      "text/plain": [
       "<tensorflow.python.keras.callbacks.History at 0x26e9baa46a0>"
      ]
     },
     "execution_count": 72,
     "metadata": {},
     "output_type": "execute_result"
    }
   ],
   "source": [
    "model.fit(train, steps_per_epoch = 500, epochs = 100)"
   ]
  },
  {
   "cell_type": "code",
   "execution_count": 79,
   "metadata": {},
   "outputs": [
    {
     "name": "stdout",
     "output_type": "stream",
     "text": [
      "313/313 [==============================] - 2s 6ms/step - loss: 0.3688 - accuracy: 0.9087\n",
      "test_loss =  0.3688097298145294\n",
      "test_accuracy =  0.9086999893188477\n"
     ]
    }
   ],
   "source": [
    "test_loss, test_accuracy = model.evaluate(test)\n",
    "print(\"test_loss = \", test_loss)\n",
    "print(\"test_accuracy = \", test_accuracy)"
   ]
  },
  {
   "cell_type": "markdown",
   "metadata": {},
   "source": [
    "we can see that it has an accuracy of 90% which is preety good"
   ]
  },
  {
   "cell_type": "code",
   "execution_count": 80,
   "metadata": {},
   "outputs": [
    {
     "ename": "TypeError",
     "evalue": "tuple indices must be integers or slices, not str",
     "output_type": "error",
     "traceback": [
      "\u001b[1;31m---------------------------------------------------------------------------\u001b[0m",
      "\u001b[1;31mTypeError\u001b[0m                                 Traceback (most recent call last)",
      "\u001b[1;32m<ipython-input-80-b458411c18a8>\u001b[0m in \u001b[0;36m<module>\u001b[1;34m\u001b[0m\n\u001b[0;32m      1\u001b[0m \u001b[1;32mfor\u001b[0m \u001b[0mitem\u001b[0m \u001b[1;32min\u001b[0m \u001b[0mtrain\u001b[0m\u001b[1;33m:\u001b[0m\u001b[1;33m\u001b[0m\u001b[1;33m\u001b[0m\u001b[0m\n\u001b[1;32m----> 2\u001b[1;33m     \u001b[0mimage\u001b[0m \u001b[1;33m=\u001b[0m \u001b[0mitem\u001b[0m\u001b[1;33m[\u001b[0m\u001b[1;34m'image'\u001b[0m\u001b[1;33m]\u001b[0m\u001b[1;33m\u001b[0m\u001b[1;33m\u001b[0m\u001b[0m\n\u001b[0m\u001b[0;32m      3\u001b[0m     \u001b[0mlabel\u001b[0m \u001b[1;33m=\u001b[0m \u001b[0mitem\u001b[0m\u001b[1;33m[\u001b[0m\u001b[1;34m'label'\u001b[0m\u001b[1;33m]\u001b[0m\u001b[1;33m\u001b[0m\u001b[1;33m\u001b[0m\u001b[0m\n\u001b[0;32m      4\u001b[0m     \u001b[0mprint\u001b[0m\u001b[1;33m(\u001b[0m\u001b[0mimage\u001b[0m\u001b[1;33m.\u001b[0m\u001b[0mshape\u001b[0m\u001b[1;33m)\u001b[0m\u001b[1;33m\u001b[0m\u001b[1;33m\u001b[0m\u001b[0m\n\u001b[0;32m      5\u001b[0m     \u001b[0mplt\u001b[0m\u001b[1;33m.\u001b[0m\u001b[0mimshow\u001b[0m\u001b[1;33m(\u001b[0m\u001b[0mimage\u001b[0m\u001b[1;33m[\u001b[0m\u001b[1;36m0\u001b[0m\u001b[1;33m,\u001b[0m \u001b[1;33m:\u001b[0m\u001b[1;33m,\u001b[0m \u001b[1;33m:\u001b[0m\u001b[1;33m,\u001b[0m \u001b[1;36m0\u001b[0m\u001b[1;33m]\u001b[0m\u001b[1;33m)\u001b[0m\u001b[1;33m\u001b[0m\u001b[1;33m\u001b[0m\u001b[0m\n",
      "\u001b[1;31mTypeError\u001b[0m: tuple indices must be integers or slices, not str"
     ]
    }
   ],
   "source": [
    "for item in train:\n",
    "    image = item['image']\n",
    "    label = item['label']\n",
    "    print(image.shape)\n",
    "    plt.imshow(image[0, :, :, 0])\n",
    "    model.predict(image[0, :, :, 0])\n",
    "    print(label[0])\n",
    "    break"
   ]
  },
  {
   "cell_type": "code",
   "execution_count": 96,
   "metadata": {},
   "outputs": [],
   "source": [
    "class_names = ['T-shirt/top', 'Trouser', 'Pullover', 'Dress', 'Coat',\n",
    "               'Sandal', 'Shirt', 'Sneaker', 'Bag', 'Ankle boot']"
   ]
  },
  {
   "cell_type": "code",
   "execution_count": 109,
   "metadata": {},
   "outputs": [
    {
     "name": "stdout",
     "output_type": "stream",
     "text": [
      "Predictions =  Pullover\n",
      "Pullover\n"
     ]
    },
    {
     "data": {
      "image/png": "[encoded data removed]",
      "text/plain": [
       "<Figure size 432x288 with 1 Axes>"
      ]
     },
     "metadata": {
      "needs_background": "light"
     },
     "output_type": "display_data"
    }
   ],
   "source": [
    "for item in train:\n",
    "    image = item[0]\n",
    "    label = item[1]\n",
    "    inp = np.reshape(image[0], (-1, 28, 28, 1))\n",
    "    predictions = model.predict(inp)\n",
    "    print(\"Predictions = \", class_names[list(predictions[0]).index(max(predictions[0]))])\n",
    "    plt.imshow(image[0])\n",
    "    print( class_names[label[0]])\n",
    "    break"
   ]
  },
  {
   "cell_type": "code",
   "execution_count": null,
   "metadata": {},
   "outputs": [],
   "source": []
  }
 ],
 "metadata": {
  "kernelspec": {
   "display_name": "Python 3",
   "language": "python",
   "name": "python3"
  },
  "language_info": {
   "codemirror_mode": {
    "name": "ipython",
    "version": 3
   },
   "file_extension": ".py",
   "mimetype": "text/x-python",
   "name": "python",
   "nbconvert_exporter": "python",
   "pygments_lexer": "ipython3",
   "version": "3.8.5"
  }
 },
 "nbformat": 4,
 "nbformat_minor": 4
}
